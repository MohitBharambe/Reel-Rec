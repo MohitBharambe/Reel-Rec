{
 "cells": [
  {
   "cell_type": "markdown",
   "metadata": {},
   "source": [
    "imports"
   ]
  },
  {
   "cell_type": "code",
   "execution_count": 1,
   "metadata": {},
   "outputs": [],
   "source": [
    "import os\n",
    "import pandas as pd\n",
    "from sklearn.feature_extraction.text import TfidfVectorizer\n",
    "from sklearn.metrics.pairwise import cosine_similarity\n",
    "import re\n",
    "import nltk\n",
    "from nltk.corpus import stopwords\n",
    "import joblib"
   ]
  },
  {
   "cell_type": "markdown",
   "metadata": {},
   "source": [
    "Read Dataset"
   ]
  },
  {
   "cell_type": "code",
   "execution_count": 2,
   "metadata": {},
   "outputs": [],
   "source": [
    "dataset_path = os.path.join(os.getcwd(), '..', 'datasets', 'dataset.csv')\n",
    "movies = pd.read_csv(dataset_path)\n",
    "movies = movies[['id', 'title', 'country', 'overview', 'genre', 'release_date', 'vote_average', 'certificate', 'industry']]"
   ]
  },
  {
   "cell_type": "code",
   "execution_count": 3,
   "metadata": {},
   "outputs": [],
   "source": [
    "movies['rating'] = movies['vote_average']"
   ]
  },
  {
   "cell_type": "code",
   "execution_count": 4,
   "metadata": {},
   "outputs": [],
   "source": [
    "movies['certificate'] = movies['certificate']"
   ]
  },
  {
   "cell_type": "markdown",
   "metadata": {},
   "source": [
    "Normalize vote_average"
   ]
  },
  {
   "cell_type": "code",
   "execution_count": 5,
   "metadata": {},
   "outputs": [],
   "source": [
    "movies['vote_average'] = (movies['vote_average'] - movies['vote_average'].min()) / (movies['vote_average'].max() - movies['vote_average'].min())"
   ]
  },
  {
   "cell_type": "markdown",
   "metadata": {},
   "source": [
    "Combine feature rich columns to a new column metadata"
   ]
  },
  {
   "cell_type": "code",
   "execution_count": 6,
   "metadata": {},
   "outputs": [],
   "source": [
    "movies['metdata'] = movies['overview'] + ' ' + movies['country'] + ' ' + movies['industry'] + ' ' + movies['genre'] + ' ' + movies['vote_average'].astype(str)"
   ]
  },
  {
   "cell_type": "markdown",
   "metadata": {},
   "source": [
    "Download stop words corpus "
   ]
  },
  {
   "cell_type": "code",
   "execution_count": null,
   "metadata": {},
   "outputs": [],
   "source": [
    "path = os.path.join(os.getcwd(), 'nltk_data')\n",
    "nltk.data.path.append(path)\n",
    "nltk.download('stopwords',download_dir=path)"
   ]
  },
  {
   "cell_type": "code",
   "execution_count": 8,
   "metadata": {},
   "outputs": [],
   "source": [
    "stop_words = set(stopwords.words('english'))"
   ]
  },
  {
   "cell_type": "markdown",
   "metadata": {},
   "source": [
    "Preprocess data to remove stopwords"
   ]
  },
  {
   "cell_type": "code",
   "execution_count": 9,
   "metadata": {},
   "outputs": [],
   "source": [
    "def preprocess_text(text):\n",
    "    if not isinstance(text, str):\n",
    "        text = str(text)\n",
    "    text = re.sub(r'\\W', ' ', text)\n",
    "    text = re.sub(r'\\s+', ' ', text)\n",
    "    text = text.lower()\n",
    "    text = ' '.join([word for word in text.split() if word not in stop_words])\n",
    "    return text"
   ]
  },
  {
   "cell_type": "code",
   "execution_count": 10,
   "metadata": {},
   "outputs": [],
   "source": [
    "movies['metadata'] = movies['metdata'].apply(preprocess_text)"
   ]
  },
  {
   "cell_type": "markdown",
   "metadata": {},
   "source": [
    "Vectorize using TF-IDF"
   ]
  },
  {
   "cell_type": "code",
   "execution_count": 11,
   "metadata": {},
   "outputs": [],
   "source": [
    "tfidf = TfidfVectorizer(max_features=15000, stop_words='english', ngram_range=(1, 2))\n",
    "vector = tfidf.fit_transform(movies['metadata'].values.astype('U')).toarray()"
   ]
  },
  {
   "cell_type": "markdown",
   "metadata": {},
   "source": [
    "Compute cosine similarity"
   ]
  },
  {
   "cell_type": "code",
   "execution_count": 12,
   "metadata": {},
   "outputs": [],
   "source": [
    "similars = cosine_similarity(vector)"
   ]
  },
  {
   "cell_type": "markdown",
   "metadata": {},
   "source": [
    "Save as Joblib files"
   ]
  },
  {
   "cell_type": "code",
   "execution_count": null,
   "metadata": {
    "vscode": {
     "languageId": "plaintext"
    }
   },
   "outputs": [],
   "source": [
    "joblib.dump(movies, 'movies_list.joblib')\n",
    "joblib.dump(similars, 'similars_list.joblib')"
   ]
  },
  {
   "cell_type": "markdown",
   "metadata": {},
   "source": [
    "Recommendation function"
   ]
  },
  {
   "cell_type": "code",
   "execution_count": null,
   "metadata": {},
   "outputs": [],
   "source": [
    "def recommend(movie_titles, num_recommendations=6):\n",
    "    if not isinstance(movie_titles, list):\n",
    "        movie_titles = [movie_titles]\n",
    "\n",
    "    recommendations = []\n",
    "    for movie_title in movie_titles:\n",
    "        try:\n",
    "            index = movies[movies['title'] == movie_title].index[0]\n",
    "        except IndexError:\n",
    "            print(f\"Movie titled '{movie_title}' not found.\")\n",
    "            continue\n",
    "\n",
    "        distances = list(enumerate(similars[index]))\n",
    "        sorted_distances = sorted(distances, reverse=True, key=lambda x: x[1])\n",
    "\n",
    "        for i in sorted_distances[1:num_recommendations + 1]:\n",
    "            movie = movies.iloc[i[0]]\n",
    "            recommendations.append({\n",
    "                'title': movie.title,\n",
    "                'id': movie.id,\n",
    "                'genre': movie.genre,\n",
    "            })\n",
    "\n",
    "    unique_recommendations = {rec['id']: rec for rec in recommendations}.values()\n",
    "    return list(unique_recommendations)\n",
    "\n",
    "print(recommend(['Suicide Squad: Hell to Pay', 'The Humanity Bureau', 'Traffik'], num_recommendations=7))"
   ]
  }
 ],
 "metadata": {
  "kernelspec": {
   "display_name": "Python 3 (ipykernel)",
   "language": "python",
   "name": "python3"
  },
  "language_info": {
   "codemirror_mode": {
    "name": "ipython",
    "version": 3
   },
   "file_extension": ".py",
   "mimetype": "text/x-python",
   "name": "python",
   "nbconvert_exporter": "python",
   "pygments_lexer": "ipython3",
   "version": "3.12.1"
  }
 },
 "nbformat": 4,
 "nbformat_minor": 4
}
